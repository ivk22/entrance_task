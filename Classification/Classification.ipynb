{
  "nbformat": 4,
  "nbformat_minor": 0,
  "metadata": {
    "colab": {
      "name": "Classification.ipynb",
      "provenance": []
    },
    "kernelspec": {
      "name": "python3",
      "display_name": "Python 3"
    },
    "language_info": {
      "name": "python"
    }
  },
  "cells": [
    {
      "cell_type": "code",
      "metadata": {
        "colab": {
          "base_uri": "https://localhost:8080/"
        },
        "id": "AF9WMz9RvxSx",
        "outputId": "41119f01-2ecf-47f1-f48e-1c451c5302e3"
      },
      "source": [
        "!pip uninstall scikit-learn -y\n",
        "!pip install -U scikit-learn"
      ],
      "execution_count": 1,
      "outputs": [
        {
          "output_type": "stream",
          "text": [
            "Uninstalling scikit-learn-0.24.2:\n",
            "  Successfully uninstalled scikit-learn-0.24.2\n",
            "Collecting scikit-learn\n",
            "  Using cached https://files.pythonhosted.org/packages/a8/eb/a48f25c967526b66d5f1fa7a984594f0bf0a5afafa94a8c4dbc317744620/scikit_learn-0.24.2-cp37-cp37m-manylinux2010_x86_64.whl\n",
            "Requirement already satisfied, skipping upgrade: numpy>=1.13.3 in /usr/local/lib/python3.7/dist-packages (from scikit-learn) (1.19.5)\n",
            "Requirement already satisfied, skipping upgrade: joblib>=0.11 in /usr/local/lib/python3.7/dist-packages (from scikit-learn) (1.0.1)\n",
            "Requirement already satisfied, skipping upgrade: threadpoolctl>=2.0.0 in /usr/local/lib/python3.7/dist-packages (from scikit-learn) (2.1.0)\n",
            "Requirement already satisfied, skipping upgrade: scipy>=0.19.1 in /usr/local/lib/python3.7/dist-packages (from scikit-learn) (1.4.1)\n",
            "Installing collected packages: scikit-learn\n",
            "Successfully installed scikit-learn-0.24.2\n"
          ],
          "name": "stdout"
        }
      ]
    },
    {
      "cell_type": "code",
      "metadata": {
        "colab": {
          "base_uri": "https://localhost:8080/"
        },
        "id": "jMz458Im3eUN",
        "outputId": "9f35a755-75d4-4027-b2a5-24ddc0c24615"
      },
      "source": [
        "!pip install catboost"
      ],
      "execution_count": 2,
      "outputs": [
        {
          "output_type": "stream",
          "text": [
            "Requirement already satisfied: catboost in /usr/local/lib/python3.7/dist-packages (0.26)\n",
            "Requirement already satisfied: six in /usr/local/lib/python3.7/dist-packages (from catboost) (1.15.0)\n",
            "Requirement already satisfied: matplotlib in /usr/local/lib/python3.7/dist-packages (from catboost) (3.2.2)\n",
            "Requirement already satisfied: numpy>=1.16.0 in /usr/local/lib/python3.7/dist-packages (from catboost) (1.19.5)\n",
            "Requirement already satisfied: plotly in /usr/local/lib/python3.7/dist-packages (from catboost) (4.4.1)\n",
            "Requirement already satisfied: pandas>=0.24.0 in /usr/local/lib/python3.7/dist-packages (from catboost) (1.1.5)\n",
            "Requirement already satisfied: scipy in /usr/local/lib/python3.7/dist-packages (from catboost) (1.4.1)\n",
            "Requirement already satisfied: graphviz in /usr/local/lib/python3.7/dist-packages (from catboost) (0.10.1)\n",
            "Requirement already satisfied: pyparsing!=2.0.4,!=2.1.2,!=2.1.6,>=2.0.1 in /usr/local/lib/python3.7/dist-packages (from matplotlib->catboost) (2.4.7)\n",
            "Requirement already satisfied: python-dateutil>=2.1 in /usr/local/lib/python3.7/dist-packages (from matplotlib->catboost) (2.8.1)\n",
            "Requirement already satisfied: kiwisolver>=1.0.1 in /usr/local/lib/python3.7/dist-packages (from matplotlib->catboost) (1.3.1)\n",
            "Requirement already satisfied: cycler>=0.10 in /usr/local/lib/python3.7/dist-packages (from matplotlib->catboost) (0.10.0)\n",
            "Requirement already satisfied: retrying>=1.3.3 in /usr/local/lib/python3.7/dist-packages (from plotly->catboost) (1.3.3)\n",
            "Requirement already satisfied: pytz>=2017.2 in /usr/local/lib/python3.7/dist-packages (from pandas>=0.24.0->catboost) (2018.9)\n"
          ],
          "name": "stdout"
        }
      ]
    },
    {
      "cell_type": "code",
      "metadata": {
        "colab": {
          "base_uri": "https://localhost:8080/"
        },
        "id": "TD5YHuqewUWq",
        "outputId": "ca43aefc-c8f9-441e-a14e-ea8b17dc9e59"
      },
      "source": [
        "from google.colab import drive\n",
        "drive.mount('/content/drive')"
      ],
      "execution_count": 3,
      "outputs": [
        {
          "output_type": "stream",
          "text": [
            "Drive already mounted at /content/drive; to attempt to forcibly remount, call drive.mount(\"/content/drive\", force_remount=True).\n"
          ],
          "name": "stdout"
        }
      ]
    },
    {
      "cell_type": "code",
      "metadata": {
        "id": "GGZF9mYqv_sv"
      },
      "source": [
        "import pandas as pd\n",
        "import seaborn as sns\n",
        "import numpy as np\n",
        "import matplotlib.pylab as plt\n",
        "from pylab import rcParams\n",
        "rcParams['figure.figsize'] = 20, 10\n",
        "import gc\n",
        "from sklearn.preprocessing import OneHotEncoder\n",
        "from sklearn.model_selection import train_test_split\n",
        "from sklearn.metrics import *\n",
        "from dateutil import parser\n",
        "from datetime import datetime\n",
        "from sklearn.linear_model import LinearRegression\n",
        "from itertools import product\n",
        "import torch\n",
        "from torch import nn, from_numpy\n",
        "from sklearn.metrics import r2_score,roc_auc_score\n",
        "from sklearn.preprocessing import MinMaxScaler,StandardScaler\n",
        "from scipy.sparse import coo_matrix, hstack\n",
        "from catboost import CatBoostClassifier"
      ],
      "execution_count": 4,
      "outputs": []
    },
    {
      "cell_type": "code",
      "metadata": {
        "colab": {
          "base_uri": "https://localhost:8080/"
        },
        "id": "P9cP9UnvwRxk",
        "outputId": "d9050ba7-fb65-4d61-a125-21f17a1cafb8"
      },
      "source": [
        "X = pd.read_csv(r'/content/drive/MyDrive/classification/train.csv')\n",
        "X_test = pd.read_csv(r'/content/drive/MyDrive/classification/test.csv')\n",
        "df_submission = pd.read_csv(r'/content/drive/MyDrive/classification/submission.csv')"
      ],
      "execution_count": 5,
      "outputs": [
        {
          "output_type": "stream",
          "text": [
            "/usr/local/lib/python3.7/dist-packages/IPython/core/interactiveshell.py:2718: DtypeWarning: Columns (16,26) have mixed types.Specify dtype option on import or set low_memory=False.\n",
            "  interactivity=interactivity, compiler=compiler, result=result)\n"
          ],
          "name": "stderr"
        }
      ]
    },
    {
      "cell_type": "code",
      "metadata": {
        "id": "2QXVGpoExpwV"
      },
      "source": [
        "X.drop('machine_id',axis=1,inplace=True)\n",
        "X_test.drop('machine_id',axis=1,inplace=True)"
      ],
      "execution_count": 6,
      "outputs": []
    },
    {
      "cell_type": "code",
      "metadata": {
        "id": "j8JHF1kR0q1N"
      },
      "source": [
        "y = X['is_infected']\n",
        "X =  X.drop(['is_infected'],axis=1)"
      ],
      "execution_count": 7,
      "outputs": []
    },
    {
      "cell_type": "code",
      "metadata": {
        "id": "NymH3SZEx-Ar"
      },
      "source": [
        ""
      ],
      "execution_count": 7,
      "outputs": []
    },
    {
      "cell_type": "code",
      "metadata": {
        "colab": {
          "base_uri": "https://localhost:8080/"
        },
        "id": "AZWy-6mMpm4B",
        "outputId": "08dd8b06-c84a-44e2-a65f-e408c727208c"
      },
      "source": [
        "X.apply(lambda x: x.unique().shape[0],axis=0)"
      ],
      "execution_count": 8,
      "outputs": [
        {
          "output_type": "execute_result",
          "data": {
            "text/plain": [
              "device_os_version                                  21\n",
              "device_os_full_name                               313\n",
              "device_os_build                                    50\n",
              "device_os_build_revision                          240\n",
              "device_os_build_lab                               481\n",
              "device_os_suite                                    11\n",
              "device_os_platform_name                             4\n",
              "device_os_platform_subrelease                       9\n",
              "device_os_architecture                              3\n",
              "device_os_sku_name                                 22\n",
              "device_os_install_type_name                         9\n",
              "device_os_autoupdate_option_name                    6\n",
              "device_os_is_portable                               2\n",
              "device_is_protected                                 3\n",
              "device_is_cloud_defence_enabled                     2\n",
              "device_is_pua_mode_enabled                          2\n",
              "device_is_smode_enabled                             3\n",
              "device_is_smart_screen_enabled                     13\n",
              "device_is_firewall_enabled                          3\n",
              "device_is_uac_enabled                               6\n",
              "device_sku_edition                                  8\n",
              "device_form_factor_type                            12\n",
              "device_family                                       3\n",
              "device_cpu_architecture                             3\n",
              "device_cpu_count                                   27\n",
              "device_cpu_class                                    4\n",
              "device_system_disk_total_capacity                1409\n",
              "device_system_disk_type_name                        5\n",
              "device_system_volume_total_capacity            188943\n",
              "device_has_optical_disk_drive                       2\n",
              "device_total_physical_ram                         767\n",
              "device_chassis_type_name                           38\n",
              "device_primary_display_monitor_size_inches        558\n",
              "deivce_primary_display_horizonal_resolution       649\n",
              "deivce_primary_display_vertical_resolution        648\n",
              "device_power_platform_name                         10\n",
              "device_genuine_state_name                           4\n",
              "device_activation_channel                           6\n",
              "device_locale_id                                  243\n",
              "device_is_secure_boot_enabled                       2\n",
              "device_is_virtual                                   3\n",
              "device_is_touched_enabled                           2\n",
              "device_is_pen_capable                               2\n",
              "device_is_always_on_connected_capable               3\n",
              "device_is_gaming                                    3\n",
              "device_defender_product_name                        5\n",
              "device_defender_engine_version                     57\n",
              "device_defender_app_version                        96\n",
              "device_defender_av_sig_version                   7097\n",
              "device_defender_is_beta                             2\n",
              "device_default_browser_id                         709\n",
              "device_antivirus_product_id                      7185\n",
              "device_has_cryptogrpahic                            2\n",
              "device_country_id                                 222\n",
              "device_city_id                                  46284\n",
              "device_organization_id                             45\n",
              "device_geo_id                                     273\n",
              "dtype: int64"
            ]
          },
          "metadata": {
            "tags": []
          },
          "execution_count": 8
        }
      ]
    },
    {
      "cell_type": "markdown",
      "metadata": {
        "id": "onnDATnaogmZ"
      },
      "source": [
        "Датасет содержит множество признаков, имеющих неопределенное влияние на зависимую переменную. Для такой задачи целесообразно использовать градиентный бустинг на решающими деревьями. Т к в задаче множество категориальных признаков используем catboost с удобной обработкой таких признаков. В качестве непрерывных признаков рассмотрим device_system_disk_total_capacity, device_system_volume_total_capacity и device_total_physical_ram, остальные признаки будем полагать категориальными"
      ]
    },
    {
      "cell_type": "code",
      "metadata": {
        "id": "QMsqf0iloeph"
      },
      "source": [
        "inds_real = np.where((X.columns=='device_system_disk_total_capacity') | (X.columns=='device_system_volume_total_capacity') | (X.columns=='device_total_physical_ram'))[0]"
      ],
      "execution_count": 9,
      "outputs": []
    },
    {
      "cell_type": "code",
      "metadata": {
        "id": "F744qo_6yxUX"
      },
      "source": [
        "inds_cat = np.array([i for i in range(X.shape[1]) if i not in inds_real])"
      ],
      "execution_count": 10,
      "outputs": []
    },
    {
      "cell_type": "code",
      "metadata": {
        "id": "mt9UJMhV2BHe"
      },
      "source": [
        "X.iloc[:,inds_cat] = X.iloc[:,inds_cat].astype(str)\n",
        "X_test.iloc[:,inds_cat] = X_test.iloc[:,inds_cat].astype(str)"
      ],
      "execution_count": 11,
      "outputs": []
    },
    {
      "cell_type": "markdown",
      "metadata": {
        "id": "Y1jQ3L_S4Y5M"
      },
      "source": [
        "Заполним пропуски в вещественных переменных медианными значениями, в категориальных переменных создадим новый класс, соответствующий пропуску."
      ]
    },
    {
      "cell_type": "code",
      "metadata": {
        "id": "TliPo6Qc4SCd"
      },
      "source": [
        "X.iloc[:,inds_real] = X.iloc[:,inds_real].fillna(X.iloc[:,inds_real].median())\n",
        "X_test.iloc[:,inds_real]=X_test.iloc[:,inds_real].fillna(X_test.iloc[:,inds_real].median())"
      ],
      "execution_count": 12,
      "outputs": []
    },
    {
      "cell_type": "markdown",
      "metadata": {
        "id": "XKY_gw_g5mCG"
      },
      "source": [
        "Оценим сбалансированность классов"
      ]
    },
    {
      "cell_type": "code",
      "metadata": {
        "colab": {
          "base_uri": "https://localhost:8080/"
        },
        "id": "QbYIlVNI44a9",
        "outputId": "f7609ba8-5acd-47b3-bb99-180ba6c75c17"
      },
      "source": [
        "y.mean()"
      ],
      "execution_count": 13,
      "outputs": [
        {
          "output_type": "execute_result",
          "data": {
            "text/plain": [
              "0.49978640808137165"
            ]
          },
          "metadata": {
            "tags": []
          },
          "execution_count": 13
        }
      ]
    },
    {
      "cell_type": "markdown",
      "metadata": {
        "id": "S94p7wjj5rWO"
      },
      "source": [
        "Классы сбалансированны"
      ]
    },
    {
      "cell_type": "markdown",
      "metadata": {
        "id": "e9AaIsZ3752P"
      },
      "source": [
        "Разобъем датасет на обучение и валидацию. В общем случае лучше использовать кросс валидацию."
      ]
    },
    {
      "cell_type": "code",
      "metadata": {
        "id": "xPS2OTlJ59zl"
      },
      "source": [
        "X_train,X_val,y_train,y_val = train_test_split(X,y,stratify=y,test_size=0.2)"
      ],
      "execution_count": 14,
      "outputs": []
    },
    {
      "cell_type": "markdown",
      "metadata": {
        "id": "SosQjATzK0xD"
      },
      "source": [
        "Зафиксируем параметры, "
      ]
    },
    {
      "cell_type": "code",
      "metadata": {
        "id": "tCSxsdqs3ZrX"
      },
      "source": [
        "model = CatBoostClassifier(iterations=50,learning_rate=1e-1,depth = 10)"
      ],
      "execution_count": 15,
      "outputs": []
    },
    {
      "cell_type": "code",
      "metadata": {
        "colab": {
          "base_uri": "https://localhost:8080/"
        },
        "id": "Rku2TD8r44YO",
        "outputId": "31de79eb-2953-4cc1-be13-dcbdaf57b3f4"
      },
      "source": [
        "model.fit(X_train,y_train,cat_features=inds_cat)"
      ],
      "execution_count": 16,
      "outputs": [
        {
          "output_type": "stream",
          "text": [
            "0:\tlearn: 0.6813522\ttotal: 3.13s\tremaining: 2m 33s\n",
            "1:\tlearn: 0.6719493\ttotal: 5.98s\tremaining: 2m 23s\n",
            "2:\tlearn: 0.6642989\ttotal: 8.53s\tremaining: 2m 13s\n",
            "3:\tlearn: 0.6579508\ttotal: 11.2s\tremaining: 2m 8s\n",
            "4:\tlearn: 0.6529452\ttotal: 13.7s\tremaining: 2m 3s\n",
            "5:\tlearn: 0.6488142\ttotal: 16.5s\tremaining: 2m\n",
            "6:\tlearn: 0.6451000\ttotal: 19s\tremaining: 1m 56s\n",
            "7:\tlearn: 0.6420899\ttotal: 21.4s\tremaining: 1m 52s\n",
            "8:\tlearn: 0.6396722\ttotal: 24s\tremaining: 1m 49s\n",
            "9:\tlearn: 0.6376525\ttotal: 26.5s\tremaining: 1m 45s\n",
            "10:\tlearn: 0.6358410\ttotal: 29s\tremaining: 1m 42s\n",
            "11:\tlearn: 0.6342546\ttotal: 31.5s\tremaining: 1m 39s\n",
            "12:\tlearn: 0.6330446\ttotal: 34s\tremaining: 1m 36s\n",
            "13:\tlearn: 0.6319189\ttotal: 36.5s\tremaining: 1m 33s\n",
            "14:\tlearn: 0.6309825\ttotal: 39s\tremaining: 1m 31s\n",
            "15:\tlearn: 0.6301221\ttotal: 41.6s\tremaining: 1m 28s\n",
            "16:\tlearn: 0.6292094\ttotal: 44.1s\tremaining: 1m 25s\n",
            "17:\tlearn: 0.6284558\ttotal: 46.7s\tremaining: 1m 23s\n",
            "18:\tlearn: 0.6277789\ttotal: 49.2s\tremaining: 1m 20s\n",
            "19:\tlearn: 0.6271840\ttotal: 51.7s\tremaining: 1m 17s\n",
            "20:\tlearn: 0.6263548\ttotal: 54.1s\tremaining: 1m 14s\n",
            "21:\tlearn: 0.6257628\ttotal: 56.6s\tremaining: 1m 12s\n",
            "22:\tlearn: 0.6251845\ttotal: 59.1s\tremaining: 1m 9s\n",
            "23:\tlearn: 0.6245776\ttotal: 1m 1s\tremaining: 1m 6s\n",
            "24:\tlearn: 0.6241396\ttotal: 1m 4s\tremaining: 1m 4s\n",
            "25:\tlearn: 0.6237766\ttotal: 1m 6s\tremaining: 1m 1s\n",
            "26:\tlearn: 0.6234964\ttotal: 1m 9s\tremaining: 58.8s\n",
            "27:\tlearn: 0.6230770\ttotal: 1m 11s\tremaining: 56.3s\n",
            "28:\tlearn: 0.6227131\ttotal: 1m 14s\tremaining: 53.7s\n",
            "29:\tlearn: 0.6223326\ttotal: 1m 16s\tremaining: 51.1s\n",
            "30:\tlearn: 0.6219926\ttotal: 1m 19s\tremaining: 48.5s\n",
            "31:\tlearn: 0.6216008\ttotal: 1m 21s\tremaining: 45.9s\n",
            "32:\tlearn: 0.6211898\ttotal: 1m 24s\tremaining: 43.3s\n",
            "33:\tlearn: 0.6209247\ttotal: 1m 26s\tremaining: 40.7s\n",
            "34:\tlearn: 0.6206424\ttotal: 1m 29s\tremaining: 38.2s\n",
            "35:\tlearn: 0.6202994\ttotal: 1m 31s\tremaining: 35.6s\n",
            "36:\tlearn: 0.6200264\ttotal: 1m 34s\tremaining: 33.1s\n",
            "37:\tlearn: 0.6197378\ttotal: 1m 36s\tremaining: 30.5s\n",
            "38:\tlearn: 0.6195070\ttotal: 1m 39s\tremaining: 28s\n",
            "39:\tlearn: 0.6193325\ttotal: 1m 41s\tremaining: 25.4s\n",
            "40:\tlearn: 0.6190751\ttotal: 1m 44s\tremaining: 22.9s\n",
            "41:\tlearn: 0.6188045\ttotal: 1m 46s\tremaining: 20.3s\n",
            "42:\tlearn: 0.6185939\ttotal: 1m 49s\tremaining: 17.8s\n",
            "43:\tlearn: 0.6184766\ttotal: 1m 51s\tremaining: 15.2s\n",
            "44:\tlearn: 0.6180895\ttotal: 1m 54s\tremaining: 12.7s\n",
            "45:\tlearn: 0.6178769\ttotal: 1m 56s\tremaining: 10.1s\n",
            "46:\tlearn: 0.6177197\ttotal: 1m 59s\tremaining: 7.6s\n",
            "47:\tlearn: 0.6175473\ttotal: 2m 1s\tremaining: 5.06s\n",
            "48:\tlearn: 0.6172637\ttotal: 2m 3s\tremaining: 2.53s\n",
            "49:\tlearn: 0.6169814\ttotal: 2m 6s\tremaining: 0us\n"
          ],
          "name": "stdout"
        },
        {
          "output_type": "execute_result",
          "data": {
            "text/plain": [
              "<catboost.core.CatBoostClassifier at 0x7ff1a5fa2490>"
            ]
          },
          "metadata": {
            "tags": []
          },
          "execution_count": 16
        }
      ]
    },
    {
      "cell_type": "code",
      "metadata": {
        "id": "aJkgyTIGluiI"
      },
      "source": [
        "preds_train = model.predict_proba(X_train)[:,1]\n",
        "preds_val = model.predict_proba(X_val)[:,1]"
      ],
      "execution_count": 17,
      "outputs": []
    },
    {
      "cell_type": "code",
      "metadata": {
        "colab": {
          "base_uri": "https://localhost:8080/"
        },
        "id": "mZvGBHDnluq_",
        "outputId": "600b80b9-447a-46c9-fec6-1b4e26d119c4"
      },
      "source": [
        "print( \"ROC-AUC train: {}, ROC-AUC val: {}\".format( round(roc_auc_score(y_train,preds_train),3),round(roc_auc_score(y_val,preds_val),3) ) )"
      ],
      "execution_count": 18,
      "outputs": [
        {
          "output_type": "stream",
          "text": [
            "ROC-AUC train: 0.72, ROC-AUC val: 0.711\n"
          ],
          "name": "stdout"
        }
      ]
    },
    {
      "cell_type": "markdown",
      "metadata": {
        "id": "vT_g9iBqCclp"
      },
      "source": [
        "Обучим модель на всех данных и сделаем финальный прогноз."
      ]
    },
    {
      "cell_type": "code",
      "metadata": {
        "id": "S3QPlha6q4F5"
      },
      "source": [
        "model = CatBoostClassifier(iterations=50,learning_rate=1e-1,depth = 10)"
      ],
      "execution_count": 19,
      "outputs": []
    },
    {
      "cell_type": "code",
      "metadata": {
        "colab": {
          "base_uri": "https://localhost:8080/"
        },
        "id": "A1Gt1-UtCjuZ",
        "outputId": "44254c5d-8220-465c-fb63-3e57443cccfb"
      },
      "source": [
        "model.fit(X,y,cat_features=inds_cat)"
      ],
      "execution_count": 20,
      "outputs": [
        {
          "output_type": "stream",
          "text": [
            "0:\tlearn: 0.6810701\ttotal: 3.92s\tremaining: 3m 11s\n",
            "1:\tlearn: 0.6713434\ttotal: 7.48s\tremaining: 2m 59s\n",
            "2:\tlearn: 0.6637254\ttotal: 11s\tremaining: 2m 52s\n",
            "3:\tlearn: 0.6574533\ttotal: 14.2s\tremaining: 2m 43s\n",
            "4:\tlearn: 0.6526187\ttotal: 17.3s\tremaining: 2m 35s\n",
            "5:\tlearn: 0.6483453\ttotal: 20.4s\tremaining: 2m 29s\n",
            "6:\tlearn: 0.6449049\ttotal: 23.5s\tremaining: 2m 24s\n",
            "7:\tlearn: 0.6421842\ttotal: 26.7s\tremaining: 2m 19s\n",
            "8:\tlearn: 0.6396521\ttotal: 29.8s\tremaining: 2m 15s\n",
            "9:\tlearn: 0.6376003\ttotal: 32.9s\tremaining: 2m 11s\n",
            "10:\tlearn: 0.6359236\ttotal: 36s\tremaining: 2m 7s\n",
            "11:\tlearn: 0.6343773\ttotal: 39.1s\tremaining: 2m 3s\n",
            "12:\tlearn: 0.6330241\ttotal: 42.2s\tremaining: 2m\n",
            "13:\tlearn: 0.6319073\ttotal: 45.4s\tremaining: 1m 56s\n",
            "14:\tlearn: 0.6308837\ttotal: 48.5s\tremaining: 1m 53s\n",
            "15:\tlearn: 0.6299518\ttotal: 51.6s\tremaining: 1m 49s\n",
            "16:\tlearn: 0.6291700\ttotal: 54.7s\tremaining: 1m 46s\n",
            "17:\tlearn: 0.6283291\ttotal: 57.9s\tremaining: 1m 42s\n",
            "18:\tlearn: 0.6276510\ttotal: 1m 1s\tremaining: 1m 39s\n",
            "19:\tlearn: 0.6270797\ttotal: 1m 4s\tremaining: 1m 36s\n",
            "20:\tlearn: 0.6264824\ttotal: 1m 7s\tremaining: 1m 32s\n",
            "21:\tlearn: 0.6258418\ttotal: 1m 10s\tremaining: 1m 29s\n",
            "22:\tlearn: 0.6253348\ttotal: 1m 13s\tremaining: 1m 26s\n",
            "23:\tlearn: 0.6249418\ttotal: 1m 16s\tremaining: 1m 22s\n",
            "24:\tlearn: 0.6245904\ttotal: 1m 19s\tremaining: 1m 19s\n",
            "25:\tlearn: 0.6240408\ttotal: 1m 22s\tremaining: 1m 16s\n",
            "26:\tlearn: 0.6236745\ttotal: 1m 25s\tremaining: 1m 13s\n",
            "27:\tlearn: 0.6233305\ttotal: 1m 28s\tremaining: 1m 9s\n",
            "28:\tlearn: 0.6229103\ttotal: 1m 32s\tremaining: 1m 6s\n",
            "29:\tlearn: 0.6224024\ttotal: 1m 35s\tremaining: 1m 3s\n",
            "30:\tlearn: 0.6221119\ttotal: 1m 38s\tremaining: 1m\n",
            "31:\tlearn: 0.6217435\ttotal: 1m 41s\tremaining: 57s\n",
            "32:\tlearn: 0.6213124\ttotal: 1m 44s\tremaining: 53.9s\n",
            "33:\tlearn: 0.6210617\ttotal: 1m 47s\tremaining: 50.7s\n",
            "34:\tlearn: 0.6207976\ttotal: 1m 50s\tremaining: 47.5s\n",
            "35:\tlearn: 0.6205393\ttotal: 1m 53s\tremaining: 44.3s\n",
            "36:\tlearn: 0.6202076\ttotal: 1m 56s\tremaining: 41.1s\n",
            "37:\tlearn: 0.6199658\ttotal: 2m\tremaining: 37.9s\n",
            "38:\tlearn: 0.6197938\ttotal: 2m 3s\tremaining: 34.8s\n",
            "39:\tlearn: 0.6195542\ttotal: 2m 6s\tremaining: 31.6s\n",
            "40:\tlearn: 0.6193525\ttotal: 2m 9s\tremaining: 28.5s\n",
            "41:\tlearn: 0.6191763\ttotal: 2m 12s\tremaining: 25.3s\n",
            "42:\tlearn: 0.6189567\ttotal: 2m 15s\tremaining: 22.1s\n",
            "43:\tlearn: 0.6188283\ttotal: 2m 19s\tremaining: 19s\n",
            "44:\tlearn: 0.6185193\ttotal: 2m 22s\tremaining: 15.8s\n",
            "45:\tlearn: 0.6181483\ttotal: 2m 25s\tremaining: 12.6s\n",
            "46:\tlearn: 0.6180116\ttotal: 2m 28s\tremaining: 9.47s\n",
            "47:\tlearn: 0.6177142\ttotal: 2m 31s\tremaining: 6.31s\n",
            "48:\tlearn: 0.6175653\ttotal: 2m 34s\tremaining: 3.15s\n",
            "49:\tlearn: 0.6173517\ttotal: 2m 37s\tremaining: 0us\n"
          ],
          "name": "stdout"
        },
        {
          "output_type": "execute_result",
          "data": {
            "text/plain": [
              "<catboost.core.CatBoostClassifier at 0x7ff13ec25bd0>"
            ]
          },
          "metadata": {
            "tags": []
          },
          "execution_count": 20
        }
      ]
    },
    {
      "cell_type": "code",
      "metadata": {
        "id": "2NUU0Bx5CnYq"
      },
      "source": [
        "preds = model.predict_proba(X_test)[:,1]\n",
        "df_submission['is_infected'] = preds"
      ],
      "execution_count": 21,
      "outputs": []
    },
    {
      "cell_type": "code",
      "metadata": {
        "id": "J5GDQ1S0C2xJ"
      },
      "source": [
        "df_submission.to_csv('/content/drive/MyDrive/classification/final_cls.csv')"
      ],
      "execution_count": 23,
      "outputs": []
    },
    {
      "cell_type": "code",
      "metadata": {
        "id": "xeuxdPR1EBUy"
      },
      "source": [
        ""
      ],
      "execution_count": 24,
      "outputs": []
    }
  ]
}