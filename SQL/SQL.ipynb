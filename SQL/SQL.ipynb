{
  "nbformat": 4,
  "nbformat_minor": 0,
  "metadata": {
    "colab": {
      "name": "SQL.ipynb",
      "provenance": [],
      "collapsed_sections": []
    },
    "kernelspec": {
      "name": "python3",
      "display_name": "Python 3"
    },
    "language_info": {
      "name": "python"
    }
  },
  "cells": [
    {
      "cell_type": "code",
      "metadata": {
        "id": "Nn0L57MgPVuL"
      },
      "source": [
        "import pandas as pd\n",
        "import numpy as np\n",
        "from datetime import datetime, timedelta\n",
        "import math"
      ],
      "execution_count": 1,
      "outputs": []
    },
    {
      "cell_type": "code",
      "metadata": {
        "colab": {
          "base_uri": "https://localhost:8080/",
          "height": 297
        },
        "id": "thxRNUWnPeOF",
        "outputId": "8bbf6a0e-ff8b-4f39-870f-3a91c02eabb5"
      },
      "source": [
        "df = pd.read_csv(r'shedulers.csv', encoding='cp1251', sep=';')\n",
        "df.columns = ['FIO','SHEDULE','DATE_BEGIN','DATE_END']\n",
        "df.head(10)"
      ],
      "execution_count": 2,
      "outputs": [
        {
          "output_type": "execute_result",
          "data": {
            "text/html": [
              "<div>\n",
              "<style scoped>\n",
              "    .dataframe tbody tr th:only-of-type {\n",
              "        vertical-align: middle;\n",
              "    }\n",
              "\n",
              "    .dataframe tbody tr th {\n",
              "        vertical-align: top;\n",
              "    }\n",
              "\n",
              "    .dataframe thead th {\n",
              "        text-align: right;\n",
              "    }\n",
              "</style>\n",
              "<table border=\"1\" class=\"dataframe\">\n",
              "  <thead>\n",
              "    <tr style=\"text-align: right;\">\n",
              "      <th></th>\n",
              "      <th>FIO</th>\n",
              "      <th>SHEDULE</th>\n",
              "      <th>DATE_BEGIN</th>\n",
              "      <th>DATE_END</th>\n",
              "    </tr>\n",
              "  </thead>\n",
              "  <tbody>\n",
              "    <tr>\n",
              "      <th>0</th>\n",
              "      <td>Поставщик 1</td>\n",
              "      <td>дддвсвнн</td>\n",
              "      <td>01.01.2019 0:00</td>\n",
              "      <td>10.01.2019 0:00</td>\n",
              "    </tr>\n",
              "    <tr>\n",
              "      <th>1</th>\n",
              "      <td>Поставщик 1</td>\n",
              "      <td>ннвннв</td>\n",
              "      <td>11.01.2019 0:00</td>\n",
              "      <td>15.01.2019 0:00</td>\n",
              "    </tr>\n",
              "    <tr>\n",
              "      <th>2</th>\n",
              "      <td>Поставщик 1</td>\n",
              "      <td>св</td>\n",
              "      <td>16.01.2019 0:00</td>\n",
              "      <td>20.01.2019 0:00</td>\n",
              "    </tr>\n",
              "    <tr>\n",
              "      <th>3</th>\n",
              "      <td>Поставщик 2</td>\n",
              "      <td>свсвсв</td>\n",
              "      <td>01.01.2019 0:00</td>\n",
              "      <td>07.01.2019 0:00</td>\n",
              "    </tr>\n",
              "    <tr>\n",
              "      <th>4</th>\n",
              "      <td>Поставщик 2</td>\n",
              "      <td>днвсв</td>\n",
              "      <td>08.01.2019 0:00</td>\n",
              "      <td>14.01.2019 0:00</td>\n",
              "    </tr>\n",
              "    <tr>\n",
              "      <th>5</th>\n",
              "      <td>Поставщик 2</td>\n",
              "      <td>ннддвсв</td>\n",
              "      <td>15.01.2019 0:00</td>\n",
              "      <td>31.12.9999 0:00</td>\n",
              "    </tr>\n",
              "    <tr>\n",
              "      <th>6</th>\n",
              "      <td>Поставщик 3</td>\n",
              "      <td>нвнвнв</td>\n",
              "      <td>01.01.2019 0:00</td>\n",
              "      <td>01.02.2019 0:00</td>\n",
              "    </tr>\n",
              "    <tr>\n",
              "      <th>7</th>\n",
              "      <td>Поставщик 3</td>\n",
              "      <td>двдвдвдв</td>\n",
              "      <td>02.02.2019 0:00</td>\n",
              "      <td>31.12.9999 0:00</td>\n",
              "    </tr>\n",
              "  </tbody>\n",
              "</table>\n",
              "</div>"
            ],
            "text/plain": [
              "           FIO   SHEDULE       DATE_BEGIN         DATE_END\n",
              "0  Поставщик 1  дддвсвнн  01.01.2019 0:00  10.01.2019 0:00\n",
              "1  Поставщик 1    ннвннв  11.01.2019 0:00  15.01.2019 0:00\n",
              "2  Поставщик 1        св  16.01.2019 0:00  20.01.2019 0:00\n",
              "3  Поставщик 2    свсвсв  01.01.2019 0:00  07.01.2019 0:00\n",
              "4  Поставщик 2     днвсв  08.01.2019 0:00  14.01.2019 0:00\n",
              "5  Поставщик 2   ннддвсв  15.01.2019 0:00  31.12.9999 0:00\n",
              "6  Поставщик 3    нвнвнв  01.01.2019 0:00  01.02.2019 0:00\n",
              "7  Поставщик 3  двдвдвдв  02.02.2019 0:00  31.12.9999 0:00"
            ]
          },
          "metadata": {
            "tags": []
          },
          "execution_count": 2
        }
      ]
    },
    {
      "cell_type": "markdown",
      "metadata": {
        "id": "_VyGmZpqP55u"
      },
      "source": [
        "Задание 3."
      ]
    },
    {
      "cell_type": "code",
      "metadata": {
        "id": "LOVSABrlPm-h"
      },
      "source": [
        "def slicer(x):\n",
        "  l = x.split()\n",
        "  s = int(l[1])\n",
        "  f = s + int(l[2])\n",
        "  return l[0][s:f]\n",
        "\n",
        "def COUNT_WORK_DAYS(df,start,end):\n",
        "  ds = df.copy()\n",
        "  ds['DATE_BEGIN'] = ds['DATE_BEGIN'].apply(lambda x: datetime.strptime(x,'%d.%m.%Y %H:%M')).astype(object)\n",
        "  ds['DATE_END'] = ds['DATE_END'].apply(lambda x: datetime.strptime(x,'%d.%m.%Y %H:%M'))\n",
        "    \n",
        "  ds['date_start'] = np.maximum(ds['DATE_BEGIN'],start)\n",
        "  ds['pos_start'] = (ds['date_start']-ds['DATE_BEGIN']).apply(lambda x: x.days)\n",
        "  ds['Diff'] = (np.minimum(ds['DATE_END'],end)-ds['date_start']).apply(lambda x: x.days)+1\n",
        "  ds = ds[ds.Diff>0]\n",
        "  ds['n_reps'] = np.ceil(((ds['pos_start']+ds.Diff+1)/ds.SHEDULE.apply(lambda x: len(x)))).astype(int)\n",
        "\n",
        "  ds['SHEDULE'] = ds['SHEDULE']*ds['n_reps']+' '+ds['pos_start'].astype(str)+' ' + ds['Diff'].astype(str)\n",
        "  ds['SHEDULE'] = ds['SHEDULE'].apply(slicer)\n",
        "\n",
        "  ds = ds.groupby(by=['FIO'])[['date_start','SHEDULE']].agg({'date_start':'min','SHEDULE':'sum'}).reset_index().sort_values(by='FIO')\n",
        "\n",
        "  res = []\n",
        "  date_start = ds.date_start.values\n",
        "  SHEDULE = ds.SHEDULE.values\n",
        "  FIO = ds.FIO.values\n",
        "  for i in range(ds.shape[0]):\n",
        "    shed = SHEDULE[i]\n",
        "    name = FIO[i]\n",
        "    first = pd.to_datetime(str(date_start[i]))\n",
        "    for j in range(len(shed)):\n",
        "      if shed[j]=='д': \n",
        "        res.append([name,first+timedelta(hours = 8),first+timedelta(hours = 20)])\n",
        "\n",
        "      elif shed[j]=='н': \n",
        "        res.append([name,first+timedelta(hours = 20),first+timedelta(hours = 32)])\n",
        "\n",
        "      elif shed[j]=='с': \n",
        "        res.append([name,first+timedelta(hours = 8),first+timedelta(hours = 32)])\n",
        "      first+=timedelta(days=1)\n",
        "  return pd.DataFrame(res,columns=['FIO','DATE_BEGIN','DATE_END'])"
      ],
      "execution_count": 3,
      "outputs": []
    },
    {
      "cell_type": "code",
      "metadata": {
        "id": "7umR0RO0Qs8I"
      },
      "source": [
        ""
      ],
      "execution_count": 3,
      "outputs": []
    },
    {
      "cell_type": "markdown",
      "metadata": {
        "id": "KaYDgfgrxpOk"
      },
      "source": [
        "Задание 4"
      ]
    },
    {
      "cell_type": "code",
      "metadata": {
        "colab": {
          "base_uri": "https://localhost:8080/"
        },
        "id": "7-JbjLk2QwDH",
        "outputId": "daf671f1-f2de-45f5-ffab-73ec231c0ad9"
      },
      "source": [
        "start = datetime.strptime('01.01.2019','%d.%m.%Y')\n",
        "end = datetime.strptime('31.01.2019','%d.%m.%Y')\n",
        "res = COUNT_WORK_DAYS(df,start,end)"
      ],
      "execution_count": 4,
      "outputs": [
        {
          "output_type": "stream",
          "text": [
            "/usr/local/lib/python3.7/dist-packages/pandas/core/arrays/datetimelike.py:1345: PerformanceWarning: Adding/subtracting object-dtype array to DatetimeArray not vectorized\n",
            "  PerformanceWarning,\n"
          ],
          "name": "stderr"
        }
      ]
    },
    {
      "cell_type": "code",
      "metadata": {
        "colab": {
          "base_uri": "https://localhost:8080/",
          "height": 142
        },
        "id": "dnP7mlHZv_6N",
        "outputId": "ae0ef853-4585-4d01-921d-7c79e6f5b564"
      },
      "source": [
        "# число рабочих дней\n",
        "out = res.groupby(by='FIO')[['DATE_BEGIN']].count().rename({'DATE_BEGIN':'N_WORK_DAYS'},axis=1).reset_index()\n",
        "out "
      ],
      "execution_count": 9,
      "outputs": [
        {
          "output_type": "execute_result",
          "data": {
            "text/html": [
              "<div>\n",
              "<style scoped>\n",
              "    .dataframe tbody tr th:only-of-type {\n",
              "        vertical-align: middle;\n",
              "    }\n",
              "\n",
              "    .dataframe tbody tr th {\n",
              "        vertical-align: top;\n",
              "    }\n",
              "\n",
              "    .dataframe thead th {\n",
              "        text-align: right;\n",
              "    }\n",
              "</style>\n",
              "<table border=\"1\" class=\"dataframe\">\n",
              "  <thead>\n",
              "    <tr style=\"text-align: right;\">\n",
              "      <th></th>\n",
              "      <th>FIO</th>\n",
              "      <th>N_WORK_DAYS</th>\n",
              "    </tr>\n",
              "  </thead>\n",
              "  <tbody>\n",
              "    <tr>\n",
              "      <th>0</th>\n",
              "      <td>Поставщик 1</td>\n",
              "      <td>15</td>\n",
              "    </tr>\n",
              "    <tr>\n",
              "      <th>1</th>\n",
              "      <td>Поставщик 2</td>\n",
              "      <td>22</td>\n",
              "    </tr>\n",
              "    <tr>\n",
              "      <th>2</th>\n",
              "      <td>Поставщик 3</td>\n",
              "      <td>16</td>\n",
              "    </tr>\n",
              "  </tbody>\n",
              "</table>\n",
              "</div>"
            ],
            "text/plain": [
              "           FIO  N_WORK_DAYS\n",
              "0  Поставщик 1           15\n",
              "1  Поставщик 2           22\n",
              "2  Поставщик 3           16"
            ]
          },
          "metadata": {
            "tags": []
          },
          "execution_count": 9
        }
      ]
    },
    {
      "cell_type": "code",
      "metadata": {
        "colab": {
          "base_uri": "https://localhost:8080/",
          "height": 142
        },
        "id": "IrTeu3AsQ-rl",
        "outputId": "1d6f6ae1-e478-4e58-e8bc-f8b0ad5b5ba6"
      },
      "source": [
        "# поставщики с # рабочих дней в январе больше 10\n",
        "out[out.N_WORK_DAYS>10][['FIO']]"
      ],
      "execution_count": 10,
      "outputs": [
        {
          "output_type": "execute_result",
          "data": {
            "text/html": [
              "<div>\n",
              "<style scoped>\n",
              "    .dataframe tbody tr th:only-of-type {\n",
              "        vertical-align: middle;\n",
              "    }\n",
              "\n",
              "    .dataframe tbody tr th {\n",
              "        vertical-align: top;\n",
              "    }\n",
              "\n",
              "    .dataframe thead th {\n",
              "        text-align: right;\n",
              "    }\n",
              "</style>\n",
              "<table border=\"1\" class=\"dataframe\">\n",
              "  <thead>\n",
              "    <tr style=\"text-align: right;\">\n",
              "      <th></th>\n",
              "      <th>FIO</th>\n",
              "    </tr>\n",
              "  </thead>\n",
              "  <tbody>\n",
              "    <tr>\n",
              "      <th>0</th>\n",
              "      <td>Поставщик 1</td>\n",
              "    </tr>\n",
              "    <tr>\n",
              "      <th>1</th>\n",
              "      <td>Поставщик 2</td>\n",
              "    </tr>\n",
              "    <tr>\n",
              "      <th>2</th>\n",
              "      <td>Поставщик 3</td>\n",
              "    </tr>\n",
              "  </tbody>\n",
              "</table>\n",
              "</div>"
            ],
            "text/plain": [
              "           FIO\n",
              "0  Поставщик 1\n",
              "1  Поставщик 2\n",
              "2  Поставщик 3"
            ]
          },
          "metadata": {
            "tags": []
          },
          "execution_count": 10
        }
      ]
    },
    {
      "cell_type": "code",
      "metadata": {
        "id": "u1iGG3A7WU1B"
      },
      "source": [
        "# поставщики, кто работал 14,15 и 16 января\n",
        "t1 = datetime.strptime('14.01.2019','%d.%m.%Y')\n",
        "t2 = datetime.strptime('15.01.2019','%d.%m.%Y')\n",
        "t3 = datetime.strptime('16.01.2019','%d.%m.%Y')\n",
        "res['DATE_BEGIN'] = res['DATE_BEGIN'].apply(lambda x: x.replace(hour=0, minute=0))"
      ],
      "execution_count": 7,
      "outputs": []
    },
    {
      "cell_type": "code",
      "metadata": {
        "colab": {
          "base_uri": "https://localhost:8080/",
          "height": 111
        },
        "id": "mRQ78HGvZpII",
        "outputId": "27045789-24b1-4d11-cd11-69589402240d"
      },
      "source": [
        "out = res[(res.DATE_BEGIN==t1) | (res.DATE_BEGIN==t2)| (res.DATE_BEGIN==t3)].groupby(by='FIO')[['DATE_BEGIN']].count().rename({'DATE_BEGIN':'N_WORK_DAYS'},axis=1).reset_index()\n",
        "out[out.N_WORK_DAYS==3][['FIO']]"
      ],
      "execution_count": 8,
      "outputs": [
        {
          "output_type": "execute_result",
          "data": {
            "text/html": [
              "<div>\n",
              "<style scoped>\n",
              "    .dataframe tbody tr th:only-of-type {\n",
              "        vertical-align: middle;\n",
              "    }\n",
              "\n",
              "    .dataframe tbody tr th {\n",
              "        vertical-align: top;\n",
              "    }\n",
              "\n",
              "    .dataframe thead th {\n",
              "        text-align: right;\n",
              "    }\n",
              "</style>\n",
              "<table border=\"1\" class=\"dataframe\">\n",
              "  <thead>\n",
              "    <tr style=\"text-align: right;\">\n",
              "      <th></th>\n",
              "      <th>FIO</th>\n",
              "    </tr>\n",
              "  </thead>\n",
              "  <tbody>\n",
              "    <tr>\n",
              "      <th>0</th>\n",
              "      <td>Поставщик 1</td>\n",
              "    </tr>\n",
              "    <tr>\n",
              "      <th>1</th>\n",
              "      <td>Поставщик 2</td>\n",
              "    </tr>\n",
              "  </tbody>\n",
              "</table>\n",
              "</div>"
            ],
            "text/plain": [
              "           FIO\n",
              "0  Поставщик 1\n",
              "1  Поставщик 2"
            ]
          },
          "metadata": {
            "tags": []
          },
          "execution_count": 8
        }
      ]
    },
    {
      "cell_type": "code",
      "metadata": {
        "id": "7VSLpsHC4YAE"
      },
      "source": [
        ""
      ],
      "execution_count": null,
      "outputs": []
    }
  ]
}